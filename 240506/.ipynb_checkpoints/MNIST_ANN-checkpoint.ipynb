{
 "cells": [
  {
   "cell_type": "code",
   "execution_count": 1,
   "id": "d9b92f55-5085-41a9-8edb-2b058f56bf2a",
   "metadata": {},
   "outputs": [],
   "source": [
    "import numpy as np\n",
    "from keras.datasets import mnist\n",
    "from keras.models import Sequential\n",
    "from keras.layers import Conv2D, MaxPooling2D, Flatten, Dense\n",
    "from keras.utils import to_categorical\n"
   ]
  },
  {
   "cell_type": "code",
   "execution_count": 2,
   "id": "98d18d9d-e8bd-4834-a95c-527f3b0766e2",
   "metadata": {},
   "outputs": [
    {
     "name": "stdout",
     "output_type": "stream",
     "text": [
      "(20, 28, 28)\n",
      "[7 2 1 0 4 1 4 9 5 9 0 6 9 0 1 5 9 7 3 4]\n"
     ]
    }
   ],
   "source": [
    "(x_train_load, y_train_load), (x_test_load, y_test_load) = mnist.load_data()\n",
    "# 處理數據\n",
    "x_train_load = x_train_load[:500]\n",
    "y_train_load = y_train_load[:500]\n",
    "\n",
    "x_test_load = x_test_load[:20]\n",
    "y_test_load = y_test_load[:20]\n",
    "\n",
    "print(x_test_load.shape)\n",
    "print(y_test_load)\n"
   ]
  },
  {
   "cell_type": "code",
   "execution_count": 3,
   "id": "bac3d896-2621-405e-b344-17a65d681f73",
   "metadata": {
    "scrolled": true
   },
   "outputs": [
    {
     "name": "stdout",
     "output_type": "stream",
     "text": [
      "(20, 28, 28, 1)\n",
      "[[0. 0. 0. 0. 0. 0. 0. 1. 0. 0.]\n",
      " [0. 0. 1. 0. 0. 0. 0. 0. 0. 0.]\n",
      " [0. 1. 0. 0. 0. 0. 0. 0. 0. 0.]\n",
      " [1. 0. 0. 0. 0. 0. 0. 0. 0. 0.]\n",
      " [0. 0. 0. 0. 1. 0. 0. 0. 0. 0.]\n",
      " [0. 1. 0. 0. 0. 0. 0. 0. 0. 0.]\n",
      " [0. 0. 0. 0. 1. 0. 0. 0. 0. 0.]\n",
      " [0. 0. 0. 0. 0. 0. 0. 0. 0. 1.]\n",
      " [0. 0. 0. 0. 0. 1. 0. 0. 0. 0.]\n",
      " [0. 0. 0. 0. 0. 0. 0. 0. 0. 1.]\n",
      " [1. 0. 0. 0. 0. 0. 0. 0. 0. 0.]\n",
      " [0. 0. 0. 0. 0. 0. 1. 0. 0. 0.]\n",
      " [0. 0. 0. 0. 0. 0. 0. 0. 0. 1.]\n",
      " [1. 0. 0. 0. 0. 0. 0. 0. 0. 0.]\n",
      " [0. 1. 0. 0. 0. 0. 0. 0. 0. 0.]\n",
      " [0. 0. 0. 0. 0. 1. 0. 0. 0. 0.]\n",
      " [0. 0. 0. 0. 0. 0. 0. 0. 0. 1.]\n",
      " [0. 0. 0. 0. 0. 0. 0. 1. 0. 0.]\n",
      " [0. 0. 0. 1. 0. 0. 0. 0. 0. 0.]\n",
      " [0. 0. 0. 0. 1. 0. 0. 0. 0. 0.]]\n"
     ]
    }
   ],
   "source": [
    "# Data normalization\n",
    "\n",
    "# x_train = x_train_load.reshape((x_train_load.shape[0], 28, 28, 1)).astype('float32') / 255     # ==> 39s\n",
    "# x_test = x_test_load.reshape((x_test_load.shape[0], 28, 28, 1)).astype('float32') / 255\n",
    "x_train = x_train_load.reshape((x_train_load.shape[0], 28, 28, 1))                        # ==> 37s  43\n",
    "x_test = x_test_load.reshape((x_test_load.shape[0], 28, 28, 1))\n",
    "\n",
    "# 將標籤轉換為 one-hot 編碼\n",
    "y_train = to_categorical(y_train_load)\n",
    "y_test = to_categorical(y_test_load)\n",
    "print(x_test.shape)\n",
    "print(y_test)\n"
   ]
  },
  {
   "cell_type": "code",
   "execution_count": 4,
   "id": "8d0de601-de2d-49e6-93bd-351a82b9e499",
   "metadata": {
    "scrolled": true
   },
   "outputs": [
    {
     "name": "stdout",
     "output_type": "stream",
     "text": [
      "Epoch 1/50\n",
      "8/8 [==============================] - 2s 126ms/step - loss: 61.7723 - accuracy: 0.3300 - val_loss: 38.2209 - val_accuracy: 0.6500\n",
      "Epoch 2/50\n",
      "8/8 [==============================] - 0s 16ms/step - loss: 14.2593 - accuracy: 0.7800 - val_loss: 18.6953 - val_accuracy: 0.6000\n",
      "Epoch 3/50\n",
      "8/8 [==============================] - 0s 14ms/step - loss: 6.4156 - accuracy: 0.8540 - val_loss: 18.0459 - val_accuracy: 0.7000\n",
      "Epoch 4/50\n",
      "8/8 [==============================] - 0s 13ms/step - loss: 3.2148 - accuracy: 0.9200 - val_loss: 20.2391 - val_accuracy: 0.6500\n",
      "Epoch 5/50\n",
      "8/8 [==============================] - 0s 14ms/step - loss: 1.2734 - accuracy: 0.9540 - val_loss: 19.6465 - val_accuracy: 0.6000\n",
      "Epoch 6/50\n",
      "8/8 [==============================] - 0s 13ms/step - loss: 0.7063 - accuracy: 0.9800 - val_loss: 19.2895 - val_accuracy: 0.7000\n",
      "Epoch 7/50\n",
      "8/8 [==============================] - 0s 13ms/step - loss: 0.3497 - accuracy: 0.9860 - val_loss: 18.7563 - val_accuracy: 0.7000\n",
      "Epoch 8/50\n",
      "8/8 [==============================] - 0s 13ms/step - loss: 0.0124 - accuracy: 0.9980 - val_loss: 19.2671 - val_accuracy: 0.6500\n",
      "Epoch 9/50\n",
      "8/8 [==============================] - 0s 13ms/step - loss: 0.0169 - accuracy: 0.9940 - val_loss: 17.7091 - val_accuracy: 0.7000\n",
      "Epoch 10/50\n",
      "8/8 [==============================] - 0s 12ms/step - loss: 5.4412e-04 - accuracy: 1.0000 - val_loss: 16.7773 - val_accuracy: 0.8000\n",
      "Epoch 11/50\n",
      "8/8 [==============================] - 0s 12ms/step - loss: 0.0013 - accuracy: 1.0000 - val_loss: 16.7305 - val_accuracy: 0.8000\n",
      "Epoch 12/50\n",
      "8/8 [==============================] - 0s 13ms/step - loss: 1.2695e-04 - accuracy: 1.0000 - val_loss: 16.8240 - val_accuracy: 0.8000\n",
      "Epoch 13/50\n",
      "8/8 [==============================] - 0s 14ms/step - loss: 4.8170e-05 - accuracy: 1.0000 - val_loss: 16.8196 - val_accuracy: 0.7500\n",
      "Epoch 14/50\n",
      "8/8 [==============================] - 0s 13ms/step - loss: 3.3591e-05 - accuracy: 1.0000 - val_loss: 16.8067 - val_accuracy: 0.7500\n",
      "Epoch 15/50\n",
      "8/8 [==============================] - 0s 12ms/step - loss: 2.3387e-05 - accuracy: 1.0000 - val_loss: 16.7852 - val_accuracy: 0.7500\n",
      "Epoch 16/50\n",
      "8/8 [==============================] - 0s 13ms/step - loss: 1.7955e-05 - accuracy: 1.0000 - val_loss: 16.7639 - val_accuracy: 0.7500\n",
      "Epoch 17/50\n",
      "8/8 [==============================] - 0s 14ms/step - loss: 1.3918e-05 - accuracy: 1.0000 - val_loss: 16.7468 - val_accuracy: 0.7500\n",
      "Epoch 18/50\n",
      "8/8 [==============================] - 0s 13ms/step - loss: 1.1202e-05 - accuracy: 1.0000 - val_loss: 16.7311 - val_accuracy: 0.7500\n",
      "Epoch 19/50\n",
      "8/8 [==============================] - 0s 12ms/step - loss: 8.8393e-06 - accuracy: 1.0000 - val_loss: 16.7211 - val_accuracy: 0.7500\n",
      "Epoch 20/50\n",
      "8/8 [==============================] - 0s 12ms/step - loss: 7.6312e-06 - accuracy: 1.0000 - val_loss: 16.7128 - val_accuracy: 0.7500\n",
      "Epoch 21/50\n",
      "8/8 [==============================] - 0s 12ms/step - loss: 6.9745e-06 - accuracy: 1.0000 - val_loss: 16.7050 - val_accuracy: 0.7500\n",
      "Epoch 22/50\n",
      "8/8 [==============================] - 0s 12ms/step - loss: 6.0653e-06 - accuracy: 1.0000 - val_loss: 16.6992 - val_accuracy: 0.7500\n",
      "Epoch 23/50\n",
      "8/8 [==============================] - 0s 13ms/step - loss: 5.5513e-06 - accuracy: 1.0000 - val_loss: 16.6943 - val_accuracy: 0.7500\n",
      "Epoch 24/50\n",
      "8/8 [==============================] - 0s 16ms/step - loss: 5.1120e-06 - accuracy: 1.0000 - val_loss: 16.6893 - val_accuracy: 0.7500\n",
      "Epoch 25/50\n",
      "8/8 [==============================] - 0s 16ms/step - loss: 4.7033e-06 - accuracy: 1.0000 - val_loss: 16.6849 - val_accuracy: 0.7500\n",
      "Epoch 26/50\n",
      "8/8 [==============================] - 0s 16ms/step - loss: 4.3856e-06 - accuracy: 1.0000 - val_loss: 16.6812 - val_accuracy: 0.7500\n",
      "Epoch 27/50\n",
      "8/8 [==============================] - 0s 16ms/step - loss: 4.0603e-06 - accuracy: 1.0000 - val_loss: 16.6784 - val_accuracy: 0.7500\n",
      "Epoch 28/50\n",
      "8/8 [==============================] - 0s 15ms/step - loss: 3.8351e-06 - accuracy: 1.0000 - val_loss: 16.6743 - val_accuracy: 0.7500\n",
      "Epoch 29/50\n",
      "8/8 [==============================] - 0s 17ms/step - loss: 3.6089e-06 - accuracy: 1.0000 - val_loss: 16.6709 - val_accuracy: 0.7500\n",
      "Epoch 30/50\n",
      "8/8 [==============================] - 0s 16ms/step - loss: 3.4344e-06 - accuracy: 1.0000 - val_loss: 16.6669 - val_accuracy: 0.7500\n",
      "Epoch 31/50\n",
      "8/8 [==============================] - 0s 16ms/step - loss: 3.2156e-06 - accuracy: 1.0000 - val_loss: 16.6638 - val_accuracy: 0.7500\n",
      "Epoch 32/50\n",
      "8/8 [==============================] - 0s 15ms/step - loss: 3.0733e-06 - accuracy: 1.0000 - val_loss: 16.6608 - val_accuracy: 0.7500\n",
      "Epoch 33/50\n",
      "8/8 [==============================] - 0s 15ms/step - loss: 2.8807e-06 - accuracy: 1.0000 - val_loss: 16.6587 - val_accuracy: 0.7500\n",
      "Epoch 34/50\n",
      "8/8 [==============================] - 0s 16ms/step - loss: 2.7735e-06 - accuracy: 1.0000 - val_loss: 16.6559 - val_accuracy: 0.7500\n",
      "Epoch 35/50\n",
      "8/8 [==============================] - 0s 16ms/step - loss: 2.6390e-06 - accuracy: 1.0000 - val_loss: 16.6533 - val_accuracy: 0.7500\n",
      "Epoch 36/50\n",
      "8/8 [==============================] - 0s 19ms/step - loss: 2.5124e-06 - accuracy: 1.0000 - val_loss: 16.6507 - val_accuracy: 0.7500\n",
      "Epoch 37/50\n",
      "8/8 [==============================] - 0s 19ms/step - loss: 2.4176e-06 - accuracy: 1.0000 - val_loss: 16.6483 - val_accuracy: 0.7500\n",
      "Epoch 38/50\n",
      "8/8 [==============================] - 0s 16ms/step - loss: 2.3227e-06 - accuracy: 1.0000 - val_loss: 16.6463 - val_accuracy: 0.7500\n",
      "Epoch 39/50\n",
      "8/8 [==============================] - 0s 11ms/step - loss: 2.2061e-06 - accuracy: 1.0000 - val_loss: 16.6445 - val_accuracy: 0.7500\n",
      "Epoch 40/50\n",
      "8/8 [==============================] - 0s 12ms/step - loss: 2.1298e-06 - accuracy: 1.0000 - val_loss: 16.6424 - val_accuracy: 0.7500\n",
      "Epoch 41/50\n",
      "8/8 [==============================] - 0s 11ms/step - loss: 2.0457e-06 - accuracy: 1.0000 - val_loss: 16.6403 - val_accuracy: 0.7500\n",
      "Epoch 42/50\n",
      "8/8 [==============================] - 0s 14ms/step - loss: 1.9816e-06 - accuracy: 1.0000 - val_loss: 16.6381 - val_accuracy: 0.7500\n",
      "Epoch 43/50\n",
      "8/8 [==============================] - 0s 15ms/step - loss: 1.8993e-06 - accuracy: 1.0000 - val_loss: 16.6364 - val_accuracy: 0.7500\n",
      "Epoch 44/50\n",
      "8/8 [==============================] - 0s 15ms/step - loss: 1.8405e-06 - accuracy: 1.0000 - val_loss: 16.6344 - val_accuracy: 0.7500\n",
      "Epoch 45/50\n",
      "8/8 [==============================] - 0s 14ms/step - loss: 1.7708e-06 - accuracy: 1.0000 - val_loss: 16.6326 - val_accuracy: 0.7500\n",
      "Epoch 46/50\n",
      "8/8 [==============================] - 0s 13ms/step - loss: 1.7155e-06 - accuracy: 1.0000 - val_loss: 16.6311 - val_accuracy: 0.7500\n",
      "Epoch 47/50\n",
      "8/8 [==============================] - 0s 13ms/step - loss: 1.6619e-06 - accuracy: 1.0000 - val_loss: 16.6293 - val_accuracy: 0.7500\n",
      "Epoch 48/50\n",
      "8/8 [==============================] - 0s 15ms/step - loss: 1.6028e-06 - accuracy: 1.0000 - val_loss: 16.6277 - val_accuracy: 0.7500\n",
      "Epoch 49/50\n",
      "8/8 [==============================] - 0s 14ms/step - loss: 1.5489e-06 - accuracy: 1.0000 - val_loss: 16.6263 - val_accuracy: 0.7500\n",
      "Epoch 50/50\n",
      "8/8 [==============================] - 0s 14ms/step - loss: 1.5024e-06 - accuracy: 1.0000 - val_loss: 16.6247 - val_accuracy: 0.7500\n"
     ]
    }
   ],
   "source": [
    "# 建立模型\n",
    "# 建立模型\n",
    "model = Sequential([\n",
    "    Flatten(input_shape=(28, 28, 1)),\n",
    "    Dense(128, activation='relu'),\n",
    "    Dense(10, activation='softmax')\n",
    "])\n",
    "\n",
    "# 編譯模型\n",
    "model.compile(optimizer='adam',\n",
    "              loss='categorical_crossentropy',\n",
    "              metrics=['accuracy'])\n",
    "# 訓練模型\n",
    "history = model.fit(x_train, y_train, epochs=50, batch_size=64, validation_data=(x_test, y_test))\n",
    "\n"
   ]
  },
  {
   "cell_type": "code",
   "execution_count": 5,
   "id": "349910ac-365c-46af-94cd-7a031f487cdf",
   "metadata": {},
   "outputs": [
    {
     "name": "stdout",
     "output_type": "stream",
     "text": [
      "16/16 [==============================] - 0s 6ms/step\n",
      "Confusion Matrix:\n",
      "[[50  0  0  0  0  0  0  0  0  0]\n",
      " [ 0 66  0  0  0  0  0  0  0  0]\n",
      " [ 0  0 52  0  0  0  0  0  0  0]\n",
      " [ 0  0  0 50  0  0  0  0  0  0]\n",
      " [ 0  0  0  0 52  0  0  0  0  0]\n",
      " [ 0  0  0  0  0 39  0  0  0  0]\n",
      " [ 0  0  0  0  0  0 45  0  0  0]\n",
      " [ 0  0  0  0  0  0  0 52  0  0]\n",
      " [ 0  0  0  0  0  0  0  0 39  0]\n",
      " [ 0  0  0  0  0  0  0  0  0 55]]\n"
     ]
    }
   ],
   "source": [
    "from sklearn.metrics import confusion_matrix\n",
    "\n",
    "y_pred = model.predict(x_train)\n",
    "y_pred_label = np.argmax(y_pred, axis=1)\n",
    "y_train_label = np.argmax(y_train, axis=1)\n",
    "cm = confusion_matrix(y_train_label, y_pred_label)\n",
    "\n",
    "# 打印混淆矩陣\n",
    "print(\"Confusion Matrix:\")\n",
    "print(cm)"
   ]
  },
  {
   "cell_type": "code",
   "execution_count": 6,
   "id": "1c6fae53-32eb-49ee-82d0-f9d39962fd13",
   "metadata": {},
   "outputs": [
    {
     "data": {
      "image/png": "[encoded data removed]",
      "text/plain": [
       "<Figure size 1000x700 with 2 Axes>"
      ]
     },
     "metadata": {},
     "output_type": "display_data"
    }
   ],
   "source": [
    "import matplotlib.pyplot as plt\n",
    "import seaborn as sns\n",
    "\n",
    "# 繪製混淆矩陣的熱圖\n",
    "plt.figure(figsize=(10, 7))\n",
    "sns.heatmap(cm, annot=True, fmt=\"d\", cmap=\"Blues\")\n",
    "plt.xlabel('Predicted Label')\n",
    "plt.ylabel('True Label')\n",
    "plt.title('Confusion Matrix')\n",
    "plt.show()"
   ]
  },
  {
   "cell_type": "code",
   "execution_count": 7,
   "id": "11347c98-f40d-4b51-bbac-2878c56ce142",
   "metadata": {},
   "outputs": [
    {
     "data": {
      "image/png": "[encoded data removed]",
      "text/plain": [
       "<Figure size 640x480 with 1 Axes>"
      ]
     },
     "metadata": {},
     "output_type": "display_data"
    }
   ],
   "source": [
    "import matplotlib.pyplot as plt\n",
    "\n",
    "plt.plot(history.history['loss'], 'r', label='Training loss')\n",
    "plt.plot(history.history['val_loss'], 'b', label='Validation loss')\n",
    "plt.title('Training and validation loss')\n",
    "plt.xlabel('Epochs')\n",
    "plt.ylabel('Loss')\n",
    "plt.legend()\n",
    "\n",
    "plt.show()"
   ]
  },
  {
   "cell_type": "code",
   "execution_count": 11,
   "id": "e41871d0-011d-489e-ba30-652eaf1bfbea",
   "metadata": {},
   "outputs": [
    {
     "name": "stdout",
     "output_type": "stream",
     "text": [
      "1/1 [==============================] - 0s 56ms/step - loss: 16.6247 - accuracy: 0.7500\n",
      "Test a|ccuracy: 0.75\n"
     ]
    }
   ],
   "source": [
    "# 評估模型\n",
    "test_loss, test_acc = model.evaluate(x_test, y_test)\n",
    "print('Test a|ccuracy:', test_acc)"
   ]
  },
  {
   "cell_type": "code",
   "execution_count": 12,
   "id": "68c8fd24-92a7-4434-ac2b-2a9eb0d39468",
   "metadata": {},
   "outputs": [
    {
     "name": "stdout",
     "output_type": "stream",
     "text": [
      "1/1 [==============================] - 0s 61ms/step\n",
      "(20, 10)\n",
      "y_pred:  [7 2 1 0 4 1 9 9 2 7 0 6 9 0 1 0 9 7 2 4]\n"
     ]
    }
   ],
   "source": [
    "y_pred = model.predict(x_test)\n",
    "print(y_pred.shape)\n",
    "\n",
    "# print(|y_pred)\n",
    "y_pred_label = np.argmax(y_pred, axis=1)    \n",
    "print('y_pred: ', y_pred_label)"
   ]
  },
  {
   "cell_type": "code",
   "execution_count": 13,
   "id": "7c644ad0-5b50-4197-8cd3-c1e8314bb773",
   "metadata": {},
   "outputs": [
    {
     "name": "stdout",
     "output_type": "stream",
     "text": [
      "1/1 [==============================] - 0s 55ms/step\n",
      "y_shape:  (20, 10)\n",
      "y_pred:  [7 2 1 0 4 1 9 9 2 7 0 6 9 0 1 0 9 7 2 4]\n",
      "y_test:  [7 2 1 0 4 1 4 9 5 9 0 6 9 0 1 5 9 7 3 4]\n",
      "Index of Prediction errors:  [ 6  8  9 15 18] \n",
      "Total number of prediction errors: 5\n"
     ]
    }
   ],
   "source": [
    "# 找出預測錯誤的索引\n",
    "y_pred = model.predict(x_test)\n",
    "print('y_shape: ', y_pred.shape)\n",
    "\n",
    "y_pred_label = np.argmax(y_pred, axis=1)  # axis=1：沿著行查找每行的最大值的索引。axis=0：沿著列查找每列的最大值的索引。\n",
    "y_test_label = np.argmax(y_test, axis=1)\n",
    "\n",
    "print('y_pred: ', y_pred_label)\n",
    "print('y_test: ', y_test_label)\n",
    "\n",
    "len(x_test)\n",
    "errors = np.where(y_pred_label != y_test_label)[0]\n",
    "print(f'Index of Prediction errors:  {errors} ')\n",
    "print(f'Total number of prediction errors: {len(errors)}')"
   ]
  }
 ],
 "metadata": {
  "kernelspec": {
   "display_name": "Python [conda env:NYCU_py39_2024] *",
   "language": "python",
   "name": "conda-env-NYCU_py39_2024-py"
  },
  "language_info": {
   "codemirror_mode": {
    "name": "ipython",
    "version": 3
   },
   "file_extension": ".py",
   "mimetype": "text/x-python",
   "name": "python",
   "nbconvert_exporter": "python",
   "pygments_lexer": "ipython3",
   "version": "3.9.18"
  }
 },
 "nbformat": 4,
 "nbformat_minor": 5
}
